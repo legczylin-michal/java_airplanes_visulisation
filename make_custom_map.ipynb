{
  "cells": [
    {
      "metadata": {
        "trusted": true,
        "colab": {
          "base_uri": "https://localhost:8080/"
        },
        "id": "0e3rPxhYPrBp",
        "outputId": "6f645272-20a5-4d7b-d3bd-aad136c26a0c"
      },
      "cell_type": "code",
      "source": [
        "# Step 1: Install of the packages\n",
        "!pip install mercantile"
      ],
      "execution_count": null,
      "outputs": [
        {
          "output_type": "stream",
          "name": "stdout",
          "text": [
            "Looking in indexes: https://pypi.org/simple, https://us-python.pkg.dev/colab-wheels/public/simple/\n",
            "Collecting mercantile\n",
            "  Downloading mercantile-1.2.1-py3-none-any.whl (14 kB)\n",
            "Requirement already satisfied: click>=3.0 in /usr/local/lib/python3.8/dist-packages (from mercantile) (7.1.2)\n",
            "Installing collected packages: mercantile\n",
            "Successfully installed mercantile-1.2.1\n"
          ]
        }
      ]
    },
    {
      "metadata": {
        "trusted": true,
        "id": "PmzL95-MPrBq"
      },
      "cell_type": "code",
      "source": [
        "# The first step is to define the min/max (lat,lng)\n",
        "# Set the zoom level (resolution level)\n",
        "lat_lng = [52.069271, 19.480322]\n",
        "delta = 6\n",
        "tl = [lat_lng[0]+delta * 0.55, lat_lng[1]-delta*0.95]\n",
        "br = [lat_lng[0]-delta * 0.8, lat_lng[1]+delta]\n",
        "z = 8 # Set the resolution"
      ],
      "execution_count": null,
      "outputs": []
    },
    {
      "metadata": {
        "trusted": true,
        "colab": {
          "base_uri": "https://localhost:8080/"
        },
        "id": "mbDFY0b7PrBq",
        "outputId": "a4d7a756-d379-41a9-b4dc-97be2a5159c6"
      },
      "cell_type": "code",
      "source": [
        "# find the tile set IDs (x/y) for the top left and bottom right at the zoom level\n",
        "import mercantile\n",
        "tl_tiles = mercantile.tile(tl[1],tl[0],z)\n",
        "br_tiles = mercantile.tile(br[1],br[0],z)\n",
        "\n",
        "x_tile_range = [tl_tiles.x,br_tiles.x]\n",
        "print(x_tile_range)\n",
        "y_tile_range = [tl_tiles.y,br_tiles.y]\n",
        "print(y_tile_range[0])"
      ],
      "execution_count": null,
      "outputs": [
        {
          "output_type": "stream",
          "name": "stdout",
          "text": [
            "[137, 146]\n",
            "80\n"
          ]
        }
      ]
    },
    {
      "metadata": {
        "trusted": true,
        "id": "mgv2L4mSPrBr"
      },
      "cell_type": "code",
      "source": [
        "# Make the folders\n",
        "!mkdir ./satellite_images\n",
        "!rm -rf ./satellite_images/*\n",
        "!mkdir ./elevation_images\n",
        "!rm -rf ./elevation_images/*"
      ],
      "execution_count": null,
      "outputs": []
    },
    {
      "metadata": {
        "trusted": true,
        "colab": {
          "base_uri": "https://localhost:8080/"
        },
        "id": "i2gEjeIjPrBr",
        "outputId": "9bd7e115-df0b-49fd-a672-4ba762dc2696"
      },
      "cell_type": "code",
      "source": [
        "# Loop over the ranges and extract the images from mapbox for satellite at @2x resolution (512x512)\n",
        "import requests\n",
        "import shutil\n",
        "for i,x in enumerate(range(x_tile_range[0],x_tile_range[1]+1)):\n",
        "    for j,y in enumerate(range(y_tile_range[0],y_tile_range[1]+1)):\n",
        "        print(x,y)\n",
        "        r = requests.get('https://api.mapbox.com/v4/mapbox.satellite/'+str(z)+'/'+str(x)+'/'+str(y)+'@2x.png?access_token=pk.eyJ1Ijoibml6d2FudCIsImEiOiJjbGQ1djhudzMwZXZmM3FtbW1hc3V0dWZyIn0.DuLNzTVZ8mMUlZEa83OdRQ', stream=True)\n",
        "        if r.status_code == 200:\n",
        "            with open('./satellite_images/' + str(i) + '.' + str(j) + '.png', 'wb') as f:\n",
        "                r.raw.decode_content = True\n",
        "                shutil.copyfileobj(r.raw, f)"
      ],
      "execution_count": null,
      "outputs": [
        {
          "output_type": "stream",
          "name": "stdout",
          "text": [
            "137 80\n",
            "137 81\n",
            "137 82\n",
            "137 83\n",
            "137 84\n",
            "137 85\n",
            "137 86\n",
            "137 87\n",
            "137 88\n",
            "137 89\n",
            "138 80\n",
            "138 81\n",
            "138 82\n",
            "138 83\n",
            "138 84\n",
            "138 85\n",
            "138 86\n",
            "138 87\n",
            "138 88\n",
            "138 89\n",
            "139 80\n",
            "139 81\n",
            "139 82\n",
            "139 83\n",
            "139 84\n",
            "139 85\n",
            "139 86\n",
            "139 87\n",
            "139 88\n",
            "139 89\n",
            "140 80\n",
            "140 81\n",
            "140 82\n",
            "140 83\n",
            "140 84\n",
            "140 85\n",
            "140 86\n",
            "140 87\n",
            "140 88\n",
            "140 89\n",
            "141 80\n",
            "141 81\n",
            "141 82\n",
            "141 83\n",
            "141 84\n",
            "141 85\n",
            "141 86\n",
            "141 87\n",
            "141 88\n",
            "141 89\n",
            "142 80\n",
            "142 81\n",
            "142 82\n",
            "142 83\n",
            "142 84\n",
            "142 85\n",
            "142 86\n",
            "142 87\n",
            "142 88\n",
            "142 89\n",
            "143 80\n",
            "143 81\n",
            "143 82\n",
            "143 83\n",
            "143 84\n",
            "143 85\n",
            "143 86\n",
            "143 87\n",
            "143 88\n",
            "143 89\n",
            "144 80\n",
            "144 81\n",
            "144 82\n",
            "144 83\n",
            "144 84\n",
            "144 85\n",
            "144 86\n",
            "144 87\n",
            "144 88\n",
            "144 89\n",
            "145 80\n",
            "145 81\n",
            "145 82\n",
            "145 83\n",
            "145 84\n",
            "145 85\n",
            "145 86\n",
            "145 87\n",
            "145 88\n",
            "145 89\n",
            "146 80\n",
            "146 81\n",
            "146 82\n",
            "146 83\n",
            "146 84\n",
            "146 85\n",
            "146 86\n",
            "146 87\n",
            "146 88\n",
            "146 89\n"
          ]
        }
      ]
    },
    {
      "metadata": {
        "trusted": true,
        "colab": {
          "base_uri": "https://localhost:8080/"
        },
        "id": "DTBLi1ntPrBs",
        "outputId": "e1c30663-0b91-4a4a-94cd-91adec809049"
      },
      "cell_type": "code",
      "source": [
        "# Combine the tiles into a single large image\n",
        "!mkdir ./composite_images\n",
        "!mkdir ./animate\n",
        "\n",
        "import PIL\n",
        "import math\n",
        "from PIL import Image\n",
        "from os import listdir\n",
        "from os.path import isfile, join\n",
        "\n",
        "img_name = 'satellite' \n",
        "image_files = ['./'+img_name+'_images/' + f for f in listdir('./'+img_name+'_images/')]\n",
        "images = [PIL.Image.open(x) for x in image_files]\n",
        "\n",
        "edge_length_x = x_tile_range[1] - x_tile_range[0]\n",
        "edge_length_y = y_tile_range[1] - y_tile_range[0]\n",
        "edge_length_x = max(1,edge_length_x)\n",
        "edge_length_y = max(1,edge_length_y)\n",
        "width, height = images[0].size\n",
        "width, height =  width // 4, height // 4\n",
        "\n",
        "\n",
        "total_width = width*edge_length_x\n",
        "total_height = height*edge_length_y\n",
        "\n",
        "\n",
        "\n",
        "composite = PIL.Image.new('RGB', (total_width, total_height))\n",
        "print(total_width,total_height)\n",
        "\n",
        "anim_idx = 0\n",
        "y_offset = 0\n",
        "for i in range(0,edge_length_x):\n",
        "    x_offset = 0\n",
        "    for j in range(0,edge_length_y):\n",
        "        tmp_img = PIL.Image.open('./'+img_name+'_images/' + str(i) + '.' + str(j) + '.png')\n",
        "        m,n = tmp_img.size  # (200, 374)\n",
        "        tmp_img = tmp_img.resize((int(m/4) , int(n/4)), Image.ANTIALIAS)\n",
        "        composite.paste(tmp_img, (y_offset,x_offset))\n",
        "        x_offset += width\n",
        "\n",
        "        composite.save('./animate/'+str(anim_idx).zfill(4)+'.jpg',optimize=True,quality=25)\n",
        "        anim_idx += 1\n",
        "        print(anim_idx)\n",
        "\n",
        "        \n",
        "    y_offset += height\n",
        "\n",
        "\n",
        "composite.save('./composite_images/'+img_name+'.png')\n",
        "\n",
        "\n"
      ],
      "execution_count": null,
      "outputs": [
        {
          "output_type": "stream",
          "name": "stdout",
          "text": [
            "mkdir: cannot create directory ‘./composite_images’: File exists\n",
            "mkdir: cannot create directory ‘./animate’: File exists\n",
            "1152 1152\n",
            "1\n",
            "2\n",
            "3\n",
            "4\n",
            "5\n",
            "6\n",
            "7\n",
            "8\n",
            "9\n",
            "10\n",
            "11\n",
            "12\n",
            "13\n",
            "14\n",
            "15\n",
            "16\n",
            "17\n",
            "18\n",
            "19\n",
            "20\n",
            "21\n",
            "22\n",
            "23\n",
            "24\n",
            "25\n",
            "26\n",
            "27\n",
            "28\n",
            "29\n",
            "30\n",
            "31\n",
            "32\n",
            "33\n",
            "34\n",
            "35\n",
            "36\n",
            "37\n",
            "38\n",
            "39\n",
            "40\n",
            "41\n",
            "42\n",
            "43\n",
            "44\n",
            "45\n",
            "46\n",
            "47\n",
            "48\n",
            "49\n",
            "50\n",
            "51\n",
            "52\n",
            "53\n",
            "54\n",
            "55\n",
            "56\n",
            "57\n",
            "58\n",
            "59\n",
            "60\n",
            "61\n",
            "62\n",
            "63\n",
            "64\n",
            "65\n",
            "66\n",
            "67\n",
            "68\n",
            "69\n",
            "70\n",
            "71\n",
            "72\n",
            "73\n",
            "74\n",
            "75\n",
            "76\n",
            "77\n",
            "78\n",
            "79\n",
            "80\n",
            "81\n"
          ]
        }
      ]
    },
    {
      "cell_type": "code",
      "source": [
        "import imageio\n",
        "images = []\n",
        "filenames = [f\"animate/00{i}.jpg\" if i >= 10 else f\"animate/000{i}.jpg\" for i in range(81)]\n",
        "for filename in filenames:\n",
        "    images.append(imageio.imread(filename))\n",
        "imageio.mimsave('movie.gif', images)"
      ],
      "metadata": {
        "id": "3nykh3pprskM"
      },
      "execution_count": null,
      "outputs": []
    }
  ],
  "metadata": {
    "kernelspec": {
      "language": "python",
      "display_name": "Python 3",
      "name": "python3"
    },
    "language_info": {
      "pygments_lexer": "ipython3",
      "nbconvert_exporter": "python",
      "version": "3.6.4",
      "file_extension": ".py",
      "codemirror_mode": {
        "name": "ipython",
        "version": 3
      },
      "name": "python",
      "mimetype": "text/x-python"
    },
    "colab": {
      "provenance": []
    }
  },
  "nbformat": 4,
  "nbformat_minor": 0
}